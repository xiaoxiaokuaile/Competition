{
 "cells": [
  {
   "cell_type": "code",
   "execution_count": null,
   "metadata": {},
   "outputs": [],
   "source": [
    "import pandas as pd\n",
    "# for循环显示进度条\n",
    "from tqdm import tqdm\n",
    "import warnings\n",
    "import gc\n",
    "import os\n",
    "import lightgbm as lgb\n",
    "from sklearn.model_selection import StratifiedKFold\n",
    "from sklearn.preprocessing import LabelEncoder\n",
    "from sklearn.metrics import roc_auc_score\n",
    "from pylab import *\n",
    "\n",
    "pd.set_option('display.max_columns', None)\n",
    "pd.set_option('display.max_rows', None)\n",
    "\n",
    "warnings.filterwarnings('ignore')"
   ]
  },
  {
   "cell_type": "code",
   "execution_count": null,
   "metadata": {},
   "outputs": [],
   "source": [
    "df_train = pd.read_csv('训练集')\n",
    "df_test = pd.read_csv('测试集')"
   ]
  },
  {
   "cell_type": "code",
   "execution_count": null,
   "metadata": {},
   "outputs": [],
   "source": [
    "# 合并训练集测试集\n",
    "df_feature = df_train.append(df_test, sort=False)"
   ]
  },
  {
   "cell_type": "markdown",
   "metadata": {},
   "source": [
    "# step1:数据分析"
   ]
  },
  {
   "cell_type": "code",
   "execution_count": null,
   "metadata": {},
   "outputs": [],
   "source": [
    "# 数据集描述\n",
    "pd.options.display.max_info_columns = 200\n",
    "df_feature.info()"
   ]
  },
  {
   "cell_type": "code",
   "execution_count": null,
   "metadata": {},
   "outputs": [],
   "source": [
    "# 统计信息\n",
    "df_feature['特征'].describe()"
   ]
  },
  {
   "cell_type": "code",
   "execution_count": null,
   "metadata": {},
   "outputs": [],
   "source": [
    "# 显示离散特征频次信息\n",
    "df_feature.loc[:,'特征1'].value_counts()"
   ]
  },
  {
   "cell_type": "code",
   "execution_count": null,
   "metadata": {},
   "outputs": [],
   "source": [
    "# 绘制续保影响因素柱状图\n",
    "# 可以查看离散特征中不同属性值的标签分布差异\n",
    "df_train.groupby('离散特征')['标签'].mean().plot(kind='bar',figsize=(8,6))"
   ]
  },
  {
   "cell_type": "code",
   "execution_count": null,
   "metadata": {},
   "outputs": [],
   "source": [
    "# 两个因素并行分析\n",
    "ageplot=df_train.pivot_table(index='离散特征1',columns='离散特征2',values='标签',aggfunc='mean')\n",
    "ageplot.plot(figsize=(15,6),style='-o',grid='True')"
   ]
  },
  {
   "cell_type": "code",
   "execution_count": null,
   "metadata": {},
   "outputs": [],
   "source": [
    "# 绘制箱型图\n",
    "# 可以查看连续特征的数据分布状况\n",
    "df_feature['特征1'].plot(kind='box')"
   ]
  },
  {
   "cell_type": "code",
   "execution_count": null,
   "metadata": {},
   "outputs": [],
   "source": [
    "# 连续变量\n",
    "# 绘制连续变量的直方图分布\n",
    "df_feature['early_return_amount_3mon'].hist(histtype='stepfilled', bins=50)"
   ]
  },
  {
   "cell_type": "code",
   "execution_count": null,
   "metadata": {},
   "outputs": [],
   "source": [
    "# 年龄中位数填充\n",
    "df_feature['p1_age']=df_feature['p1_age'].fillna(median(df_feature['p1_age'].dropna()))"
   ]
  },
  {
   "cell_type": "markdown",
   "metadata": {},
   "source": [
    "# step2:对df_feature特征工程"
   ]
  },
  {
   "cell_type": "code",
   "execution_count": null,
   "metadata": {},
   "outputs": [],
   "source": [
    "# 使用与操作\n",
    "df_train = df_train[~((df_train['特征1']==0) & (df_train['特征2']>0))]"
   ]
  },
  {
   "cell_type": "markdown",
   "metadata": {},
   "source": [
    "# 文本等信息正则化处理"
   ]
  },
  {
   "cell_type": "code",
   "execution_count": null,
   "metadata": {},
   "outputs": [],
   "source": [
    "# 车型可以拆分为 品牌+用途    (车型：福特CAF7152A轿车)\n",
    "# 提取车型中开始部分的汉字([\\u4e00-\\u9fa5]+) \n",
    "# 可提取  福特\n",
    "df_feature['品牌'] = df_feature['车型'].str.extract('([\\u4e00-\\u9fa5]+)',expand=False)  # 括号包裹起来的为提取部分\n",
    "# 提取后面部分汉字\n",
    "# 抽取车用途,[\\u4e00-\\u9fa5]+至少一个汉字、[A-Za-z0-9]+至少一个字母或者数字\n",
    "# 可提取  轿车\n",
    "df_feature['用途'] = df_feature['车型'].str.extract('[\\u4e00-\\u9fa5]+[A-Za-z0-9]+([\\u4e00-\\u9fa5]+)',expand=False)"
   ]
  },
  {
   "cell_type": "markdown",
   "metadata": {},
   "source": [
    "# 改组特征"
   ]
  },
  {
   "cell_type": "code",
   "execution_count": null,
   "metadata": {},
   "outputs": [],
   "source": [
    "# 平均\n",
    "df_feature['离散-连续-组合特征—平均'] = df_feature.groupby('离散')['连续'].transform('mean')\n",
    "# 方差\n",
    "df_feature['方差'] = df_feature.groupby('离散')['连续'].transform('std')\n",
    "# 流量平滑特征，签单时间/平均签单时间\n",
    "df_feature['平滑特征'] = df_feature['原始特征']/(df_feature['离散-连续-组合特征—平均']+1e-5)\n",
    "# 黄金组合特征：原始数值特征、基于A关于B的均值特征、B减去A关于B的均值特征,三个一起使用\n",
    "df_feature['特征-平均'] = df_feature['特征'] - df_feature['平均']\n",
    "# 组内归一化特征\n",
    "df_feature['归一化'] = (df_feature['特征'] - df_feature['平均'])/(df_feature['方差']+1e-9)"
   ]
  },
  {
   "cell_type": "markdown",
   "metadata": {},
   "source": [
    "# 时间类型数据处理"
   ]
  },
  {
   "cell_type": "code",
   "execution_count": null,
   "metadata": {},
   "outputs": [],
   "source": [
    "df_feature['time'] = pd.to_datetime(df_feature['regdate'])\n",
    "# object类型转化为daterime类型\n",
    "# 提取时间特征中年份信息\n",
    "df_feature['year'] = df_feature['regdate_time'].dt.year\n",
    "# 提取时间特征中月份信息\n",
    "df_feature['month'] = df_feature['regdate_time'].dt.month"
   ]
  },
  {
   "cell_type": "markdown",
   "metadata": {},
   "source": [
    "# 分箱"
   ]
  },
  {
   "cell_type": "code",
   "execution_count": null,
   "metadata": {},
   "outputs": [],
   "source": [
    "# 对连续特征进行分箱处理\n",
    "# 等距分箱\n",
    "df_feature['p1_age_gender']=pd.cut(df_feature['p1_age'],10)\n",
    "# 等频分箱\n",
    "df_feature['p1_age_gender']=pd.qcut(df_feature['p1_age'],10)"
   ]
  },
  {
   "cell_type": "markdown",
   "metadata": {},
   "source": [
    "# apply函数"
   ]
  },
  {
   "cell_type": "code",
   "execution_count": null,
   "metadata": {},
   "outputs": [],
   "source": [
    "# 将出生月份“6月”变为6\n",
    "# 针对字符串中的数字判定化为int类型,汉字自动过滤\n",
    "df_feature['month'] = df_feature['b_month'].apply(lambda x: int(x[:-1]) if type(x) != float else 0)"
   ]
  },
  {
   "cell_type": "markdown",
   "metadata": {},
   "source": [
    "# 删除列"
   ]
  },
  {
   "cell_type": "code",
   "execution_count": null,
   "metadata": {},
   "outputs": [],
   "source": [
    "df_feature.drop(['特征1','特征2'],axis=1,inplace=True)"
   ]
  },
  {
   "cell_type": "markdown",
   "metadata": {},
   "source": [
    "# 有序特征编码"
   ]
  },
  {
   "cell_type": "code",
   "execution_count": null,
   "metadata": {},
   "outputs": [],
   "source": [
    "rating_dic = {'黄铜':0,'白银':1,'黄金':2,'铂金':3,'钻石':4,'黑钻':5}\n",
    "df_feature['段位'] = df_feature['等级'].map(rating_dic)"
   ]
  },
  {
   "cell_type": "markdown",
   "metadata": {},
   "source": [
    "# 计数 Frequency编码，可以得到热度信息"
   ]
  },
  {
   "cell_type": "code",
   "execution_count": null,
   "metadata": {},
   "outputs": [],
   "source": [
    "for f in [['特征1'], ['特征2']]:\n",
    "    # pandas中的groupby()函数：选择某一列进行分组。(加上size()函数---统计本列中的元素出现频次)\n",
    "    # reset_index()：重新分配索引\n",
    "    df_temp = df_feature.groupby(f).size().reset_index()\n",
    "    # 或df['color_count'] = df['color'].map(df['color'].value_counts())\n",
    "    \n",
    "    # 新增标题命名\n",
    "    df_temp.columns = f + ['{}_count'.format('_'.join(f))]\n",
    "    # 合并两个表格\n",
    "    df_feature = df_feature.merge(df_temp, how='left')"
   ]
  },
  {
   "cell_type": "markdown",
   "metadata": {},
   "source": [
    "# leave-one-out mean-target编码"
   ]
  },
  {
   "cell_type": "code",
   "execution_count": null,
   "metadata": {},
   "outputs": [],
   "source": [
    "# leave-one-out mean-target编码\n",
    "# 训练集编码：用所有样本对应标签的均值作为编码\n",
    "# 测试集编码：用训练集样本对应标签的均值作为编码\n",
    "# 但是原始的这种mean-target编码非常容易过拟合，所以有了K-fold mean-target编码\n",
    "def stat(df, df_merge, group_by, agg):\n",
    "    group = df.groupby(group_by).agg(agg)\n",
    "\n",
    "    columns = []\n",
    "    for on, methods in agg.items():\n",
    "        for method in methods:\n",
    "            columns.append('{}_{}_{}'.format('_'.join(group_by), on, method))\n",
    "    group.columns = columns\n",
    "    group.reset_index(inplace=True)\n",
    "    df_merge = df_merge.merge(group, on=group_by, how='left')\n",
    "\n",
    "    del (group) # 删除中间变量\n",
    "    # 内存不够用强制回收\n",
    "    gc.collect()\n",
    "\n",
    "    return df_merge\n",
    "\n",
    "def statis_feat(df_know, df_unknow):\n",
    "    # tqdm可以使for循环显示进度条\n",
    "    # 籍贯、机构、\n",
    "    for f in tqdm(['特征1', '特征2']):\n",
    "        df_unknow = stat(df_know, df_unknow, [f], {'标签名称': ['mean']})\n",
    "\n",
    "    return df_unknow\n",
    "\n",
    "# 5折交叉\n",
    "df_train = df_feature[~df_feature['标签'].isnull()]\n",
    "df_train = df_train.reset_index(drop=True) # 重排序号\n",
    "df_test = df_feature[df_feature['标签'].isnull()]\n",
    "\n",
    "df_stas_feat = None\n",
    "# 将训练集分为5份交叉训练\n",
    "kfold = StratifiedKFold(n_splits=5, random_state=seed, shuffle=True)\n",
    "\n",
    "# 训练集编码\n",
    "for train_index, val_index in kfold.split(df_train, df_train['y1_is_purchase']):\n",
    "    df_fold_train = df_train.iloc[train_index]\n",
    "    df_fold_val = df_train.iloc[val_index]\n",
    "\n",
    "    df_fold_val = statis_feat(df_fold_train, df_fold_val)\n",
    "    df_stas_feat = pd.concat([df_stas_feat, df_fold_val], axis=0)\n",
    "\n",
    "    del(df_fold_train)\n",
    "    del(df_fold_val)\n",
    "    gc.collect()\n",
    "\n",
    "# 测试集编码\n",
    "df_test = statis_feat(df_train, df_test)\n",
    "df_feature = pd.concat([df_stas_feat, df_test], axis=0)\n",
    "\n",
    "del(df_stas_feat)\n",
    "del(df_train)\n",
    "del(df_test)\n",
    "gc.collect()"
   ]
  },
  {
   "cell_type": "markdown",
   "metadata": {},
   "source": [
    "# 编码转换"
   ]
  },
  {
   "cell_type": "code",
   "execution_count": null,
   "metadata": {},
   "outputs": [],
   "source": [
    "for f in list(df_feature.select_dtypes('object')):\n",
    "    # 标的号、初登日期不进行转换\n",
    "    if f in ['不转换的特征1', '不转换的特征2']:\n",
    "        continue\n",
    "    le = LabelEncoder()\n",
    "    # .fit_transform先编码再标准化\n",
    "    df_feature[f] = le.fit_transform(df_feature[f].astype('str')).astype('int')"
   ]
  },
  {
   "cell_type": "markdown",
   "metadata": {},
   "source": [
    "# 划分训练集测试集"
   ]
  },
  {
   "cell_type": "code",
   "execution_count": null,
   "metadata": {},
   "outputs": [],
   "source": [
    "# 将合并后的训练集测试集重新拆分回来\n",
    "df_train = df_feature[df_feature['标签'].notnull()]\n",
    "df_test = df_feature[df_feature['标签'].isnull()]"
   ]
  },
  {
   "cell_type": "markdown",
   "metadata": {},
   "source": [
    "# step3:导入lgb模型训练"
   ]
  },
  {
   "cell_type": "code",
   "execution_count": null,
   "metadata": {},
   "outputs": [],
   "source": [
    "# 定义预测结果表格\n",
    "prediction = df_test[['carid']]\n",
    "prediction['label'] = 0"
   ]
  },
  {
   "cell_type": "code",
   "execution_count": null,
   "metadata": {},
   "outputs": [],
   "source": [
    "# 指定标签\n",
    "ycol = '标签'\n",
    "# 筛除不参与训练特征\n",
    "feature_names = list(filter(lambda x: x not in [ycol,'不参与训练的特征'], df_train.columns))\n",
    "\n",
    "\n",
    "# LGB：LGBMClassifier;LGBMRegressor\n",
    "model = lgb.LGBMClassifier(num_leaves=105, # 取值应<=2^(max_depth),超过此值会导致过拟合        \n",
    "                           max_depth=13,  # 树的最大深度,-1表示不限制树深：模型过拟合时可以考虑降低它,推荐数值[3,5,6,7,9,12,15,17,25]\n",
    "                           learning_rate=0.1, # 通常0.01，0.001，0.003...\n",
    "                           n_estimators=20000, # 树的个数,越多训练时间增加n_estimators/num_iterations/num_round/num_boost_round都代表\n",
    "                           subsample=0.8, # 默认为1等价于bagging_fraction，控制每棵树随机采样比例，\n",
    "                           feature_fraction=0.6, # 等价于colsample_bytree，每次迭代中随机选择80%的特征来建树\n",
    "                           min_data_in_leaf = 121, # 每个叶节点最少样本数量，过拟合时候使用\n",
    "                           reg_alpha = 11,\n",
    "                           reg_lambda = 2.3,\n",
    "                           random_state=seed,\n",
    "                           n_jobs = 2,  # 核心数目,几核CPU\n",
    "                           metric=None\n",
    "                           )\n",
    "# 记录训练集预测值\n",
    "oof = []\n",
    "# 记录特征重要性\n",
    "df_importance_list = []\n",
    "\n",
    "\n",
    "kfold = StratifiedKFold(n_splits=5, random_state=seed, shuffle=True)\n",
    "for fold_id, (trn_idx, val_idx) in enumerate(kfold.split(df_train[feature_names], df_train[ycol])):\n",
    "    X_train = df_train.iloc[trn_idx][feature_names]\n",
    "    Y_train = df_train.iloc[trn_idx][ycol]\n",
    "\n",
    "    X_val = df_train.iloc[val_idx][feature_names]\n",
    "    Y_val = df_train.iloc[val_idx][ycol]\n",
    "\n",
    "    print('\\nFold_{} Training ================================\\n'.format(fold_id+1))\n",
    "    \n",
    "    lgb_model = model.fit(X_train,\n",
    "                          Y_train,\n",
    "                          eval_names=['valid_train','test'],\n",
    "                          eval_set=[(X_train,Y_train),(X_val, Y_val)],\n",
    "                          verbose=100, # 隔100代显示一次信息\n",
    "                          eval_metric='auc',  # 误差函数\n",
    "                          early_stopping_rounds=100  # 在50轮内验证集指标不提升就停止迭代,经验法则为num_iterations的10%。\n",
    "                          )\n",
    "    print('\\n训练结束！！！')\n",
    "    \n",
    "    pred_val = lgb_model.predict_proba(X_val, num_iteration=lgb_model.best_iteration_)[:, 1]\n",
    "    # 每一折验证集的数据保存\n",
    "    df_oof = df_train.iloc[val_idx][['carid', ycol]].copy()\n",
    "    df_oof['pred'] = pred_val  # 有3列数据ID、真实值、预测值\n",
    "    oof.append(df_oof)\n",
    "    \n",
    "    # 预测验证集\n",
    "    pred_test = lgb_model.predict_proba(df_test[feature_names], num_iteration=lgb_model.best_iteration_)[:, 1]\n",
    "    prediction['label'] += (pred_test/5)  # 每次预测的1/5加进去,乘以0.8防止出现大于一的情况，或者归一化\n",
    "\n",
    "    df_importance = pd.DataFrame({'column': feature_names,'importance': lgb_model.feature_importances_,})\n",
    "    df_importance_list.append(df_importance)  # 记录特征重要性\n",
    "\n",
    "    del lgb_model, pred_val, pred_test, X_train, Y_train, X_val, Y_val\n",
    "    gc.collect()"
   ]
  },
  {
   "cell_type": "code",
   "execution_count": null,
   "metadata": {},
   "outputs": [],
   "source": [
    "# 显示特征重要性排名表\n",
    "df_importance = pd.concat(df_importance_list)\n",
    "df_importance = df_importance.groupby(['column'])['importance'].agg('mean').sort_values(ascending=False).reset_index()\n",
    "df_importance"
   ]
  },
  {
   "cell_type": "code",
   "execution_count": null,
   "metadata": {},
   "outputs": [],
   "source": [
    "# 计算训练集auc分数\n",
    "df_oof = pd.concat(oof)\n",
    "score = roc_auc_score(df_oof['y1_is_purchase'], df_oof['pred'])\n",
    "score"
   ]
  },
  {
   "cell_type": "markdown",
   "metadata": {},
   "source": [
    "# CV调参"
   ]
  },
  {
   "cell_type": "code",
   "execution_count": null,
   "metadata": {},
   "outputs": [],
   "source": [
    "ycol = '标签'\n",
    "feature_names = list(filter(lambda x: x not in [ycol,'carid'], df_train.columns))\n",
    "# 训练集测试集\n",
    "X_train = df_train[feature_names]\n",
    "Y_train = df_train[ycol]\n",
    "\n",
    "from sklearn.model_selection import GridSearchCV\n",
    "### 我们可以创建lgb的sklearn模型，使用上面选择的(学习率，评估器数目)\n",
    "model_lgb = lgb.LGBMClassifier(objective='binary',\n",
    "                                max_depth=7,\n",
    "                                num_leaves=105,\n",
    "                                max_bin =  45,\n",
    "                                min_data_in_leaf = 101,\n",
    "                                learning_rate=0.1, \n",
    "                                n_estimators=500, \n",
    "                                metric='auc', \n",
    "                                bagging_fraction = 0.6, # 次要，0.5-1.0取值相同\n",
    "                                feature_fraction = 0.8,  # 主要\n",
    "                                reg_alpha = 1,\n",
    "                                reg_lambda = 0.7\n",
    "                                )\n",
    "params_test1={\n",
    "    'min_data_in_leaf': [81,91,101,111,121,131]\n",
    "}\n",
    "gsearch1 = GridSearchCV(estimator=model_lgb, \n",
    "                        param_grid=params_test1, \n",
    "                        scoring='roc_auc', \n",
    "                        cv=5, \n",
    "                        verbose=1, \n",
    "                        n_jobs=2\n",
    "                        )\n",
    "gsearch1.fit(X_train,Y_train)"
   ]
  },
  {
   "cell_type": "code",
   "execution_count": null,
   "metadata": {},
   "outputs": [],
   "source": [
    "# 显示调参训练细节\n",
    "gsearch1.cv_results_, gsearch1.best_params_, gsearch1.best_score_"
   ]
  },
  {
   "cell_type": "markdown",
   "metadata": {},
   "source": [
    "# step4:保存结果"
   ]
  },
  {
   "cell_type": "code",
   "execution_count": null,
   "metadata": {},
   "outputs": [],
   "source": [
    "# K折训练\n",
    "os.makedirs('sub', exist_ok=True)\n",
    "prediction.to_csv(f'sub/{score}.csv', index=False)\n",
    "prediction.to_csv(f'sub/sub.csv', index=False)"
   ]
  }
 ],
 "metadata": {
  "kernelspec": {
   "display_name": "Python [conda env:pytorch]",
   "language": "python",
   "name": "conda-env-pytorch-py"
  },
  "language_info": {
   "codemirror_mode": {
    "name": "ipython",
    "version": 3
   },
   "file_extension": ".py",
   "mimetype": "text/x-python",
   "name": "python",
   "nbconvert_exporter": "python",
   "pygments_lexer": "ipython3",
   "version": "3.7.10"
  }
 },
 "nbformat": 4,
 "nbformat_minor": 4
}
